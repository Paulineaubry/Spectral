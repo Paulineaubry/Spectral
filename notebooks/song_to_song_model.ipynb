
{
 "cells": [
  {
   "cell_type": "markdown",
   "metadata": {},
   "source": ["# 🎵 Song-to-Song Recommender (Cosine Similarity)"]
  },
  {
   "cell_type": "code",
   "execution_count": null,
   "metadata": {},
   "outputs": [],
   "source": [
    "import pandas as pd\n",
    "from sklearn.preprocessing import StandardScaler\n",
    "from sklearn.metrics.pairwise import cosine_similarity\n",
    "from sklearn.decomposition import PCA\n",
    "import numpy as np\n",
    "\n",
    "df = pd.read_csv('../df_ml.csv')\n",
    "features = ['danceability', 'energy', 'valence', 'acousticness', 'instrumentalness', 'speechiness', 'liveness']\n",
    "X = df[features].fillna(0)\n",
    "scaler = StandardScaler()\n",
    "X_scaled = scaler.fit_transform(X)\n",
    "similarity = cosine_similarity(X_scaled)\n",
    "\n",
    "# Exemple : recommander 5 chansons similaires à la première\n",
    "index = 0\n",
    "similar_indices = similarity[index].argsort()[-6:-1][::-1]\n",
    "df.iloc[similar_indices][['track_name', 'artist_name']]"
   ]
  }
 ]
}
