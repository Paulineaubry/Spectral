
{
 "cells": [
  {
   "cell_type": "markdown",
   "metadata": {},
   "source": ["# 😊 Mood Classifier"]
  },
  {
   "cell_type": "code",
   "execution_count": null,
   "metadata": {},
   "outputs": [],
   "source": [
    "import pandas as pd\n",
    "from sklearn.model_selection import train_test_split\n",
    "from sklearn.ensemble import RandomForestClassifier\n",
    "from sklearn.metrics import classification_report\n",
    "from sklearn.preprocessing import LabelEncoder\n",
    "\n",
    "df = pd.read_csv('../df_ml.csv')\n",
    "df = df.dropna(subset=['tags_humeur'])\n",
    "features = ['danceability', 'energy', 'valence', 'acousticness', 'instrumentalness', 'speechiness', 'liveness']\n",
    "X = df[features].fillna(0)\n",
    "y = LabelEncoder().fit_transform(df['tags_humeur'])\n",
    "X_train, X_test, y_train, y_test = train_test_split(X, y, test_size=0.2, random_state=42)\n",
    "clf = RandomForestClassifier().fit(X_train, y_train)\n",
    "print(classification_report(y_test, clf.predict(X_test)))"
   ]
  }
 ]
}
